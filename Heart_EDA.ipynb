{
  "nbformat": 4,
  "nbformat_minor": 0,
  "metadata": {
    "colab": {
      "name": "Heart_EDA.ipynb",
      "provenance": [],
      "collapsed_sections": [],
      "authorship_tag": "ABX9TyNxYiqaw7fksFBON6XXi+3q",
      "include_colab_link": true
    },
    "kernelspec": {
      "name": "python3",
      "display_name": "Python 3"
    },
    "language_info": {
      "name": "python"
    }
  },
  "cells": [
    {
      "cell_type": "markdown",
      "metadata": {
        "id": "view-in-github",
        "colab_type": "text"
      },
      "source": [
        "<a href=\"https://colab.research.google.com/github/BradleyConlin/Kaggle/blob/main/Heart_EDA.ipynb\" target=\"_parent\"><img src=\"https://colab.research.google.com/assets/colab-badge.svg\" alt=\"Open In Colab\"/></a>"
      ]
    },
    {
      "cell_type": "code",
      "metadata": {
        "colab": {
          "base_uri": "https://localhost:8080/"
        },
        "id": "gr_0_aMR88OF",
        "outputId": "fe2c81b4-fa62-4798-eea5-78902f63f258"
      },
      "source": [
        "import pandas as pd\n",
        "\n",
        "url = 'https://raw.githubusercontent.com/BradleyConlin/Kaggle/main/heart.csv'\n",
        "df = pd.read_csv(url, index_col=0)\n",
        "print(df.head(10))"
      ],
      "execution_count": 9,
      "outputs": [
        {
          "output_type": "stream",
          "text": [
            "     sex  cp  trtbps  chol  fbs  ...  oldpeak  slp  caa  thall  output\n",
            "age                              ...                                  \n",
            "63     1   3     145   233    1  ...      2.3    0    0      1       1\n",
            "37     1   2     130   250    0  ...      3.5    0    0      2       1\n",
            "41     0   1     130   204    0  ...      1.4    2    0      2       1\n",
            "56     1   1     120   236    0  ...      0.8    2    0      2       1\n",
            "57     0   0     120   354    0  ...      0.6    2    0      2       1\n",
            "57     1   0     140   192    0  ...      0.4    1    0      1       1\n",
            "56     0   1     140   294    0  ...      1.3    1    0      2       1\n",
            "44     1   1     120   263    0  ...      0.0    2    0      3       1\n",
            "52     1   2     172   199    1  ...      0.5    2    0      3       1\n",
            "57     1   2     150   168    0  ...      1.6    2    0      2       1\n",
            "\n",
            "[10 rows x 13 columns]\n"
          ],
          "name": "stdout"
        }
      ]
    }
  ]
}